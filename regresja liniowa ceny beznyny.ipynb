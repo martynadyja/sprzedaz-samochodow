{
 "cells": [
  {
   "cell_type": "code",
   "execution_count": 5,
   "metadata": {},
   "outputs": [
    {
     "name": "stdout",
     "output_type": "stream",
     "text": [
      "Estimated coefficients: b1= 56961 , b2= 4603\n"
     ]
    },
    {
     "data": {
      "image/png": "[encoded data removed]",
      "text/plain": [
       "<Figure size 432x288 with 1 Axes>"
      ]
     },
     "metadata": {
      "needs_background": "light"
     },
     "output_type": "display_data"
    }
   ],
   "source": [
    "from numpy import array, mean\n",
    "from matplotlib.pyplot import plot, show, xlabel, ylabel\n",
    "\n",
    "n=56\n",
    "b=array([0,0])\n",
    "\n",
    "# function of estimating coefficients\n",
    "def est(x, y): \n",
    "  \n",
    "    # x,y mean\n",
    "    m_x = mean(x)\n",
    "    m_y = mean(y) \n",
    "  \n",
    "    # cross-deviation and x deviation \n",
    "    SS_xy = sum(y*x) - n*m_y*m_x \n",
    "    SS_xx = sum(x*x) - n*m_x*m_x \n",
    "  \n",
    "    # regression coefficients \n",
    "    b[1] = SS_xy / SS_xx \n",
    "    b[0] = m_y - b[1]*m_x \n",
    "  \n",
    "    return(b[0], b[1])  \n",
    "\n",
    "\n",
    "x = array([3.96,4.11,4.3,3.72,4.03,4.31,3.93,3.65,4.23,4.44,4.32,4.34,4.32,4.71,4.35,3.34,3.96,4.61,\n",
    "           4.29,4.41,4.56,4.74,4.54,4.91,5.16,5.12,5.23,5.6,5.89,5.64,5.84,5.42,5.62,5.55,5.53,5.32,\n",
    "           5.31,5.48,5.29,4.51,4.67,5.06,4.47,4.1,4.2,4.43,4.53,4.74,4.67,4.36,4.58,4.7,4.76,5.12,5.13,\n",
    "           4.78])\n",
    "y = array([56405,53648,55942,56086,58426,57231,56402,56984,73694,70154,73158,75642,65473,82351,80654,\n",
    "           81004,29313,28720,70526,74256,56488,54867,50274,58463,67610,69213,63622,74148,77577,71236,\n",
    "           57697,66701,75906,72085,75816,77176,52522,77795,69525,82517,92108,86412,80826,96991,105236,\n",
    "           106486,92850,113486,127098,122628,109003,127606,139885,133160,130298,128546])\n",
    "  \n",
    "b = est(x, y) \n",
    "print(\"Estimated coefficients: b1=\", b[0],\", b2=\", b[1]) \n",
    "\n",
    "#regression\n",
    "y_pred = b[0] + b[1]*x \n",
    "\n",
    "plot(x,y,'ko')\n",
    "plot(x, y_pred, color = \"b\") \n",
    "xlabel('średnie wynagrodzenie') \n",
    "ylabel('sprzedaż samochodów')\n",
    "show() "
   ]
  },
  {
   "cell_type": "code",
   "execution_count": null,
   "metadata": {},
   "outputs": [],
   "source": []
  }
 ],
 "metadata": {
  "kernelspec": {
   "display_name": "Python 3",
   "language": "python",
   "name": "python3"
  },
  "language_info": {
   "codemirror_mode": {
    "name": "ipython",
    "version": 3
   },
   "file_extension": ".py",
   "mimetype": "text/x-python",
   "name": "python",
   "nbconvert_exporter": "python",
   "pygments_lexer": "ipython3",
   "version": "3.7.0"
  }
 },
 "nbformat": 4,
 "nbformat_minor": 2
}
